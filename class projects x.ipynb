{
 "cells": [
  {
   "cell_type": "markdown",
   "id": "742d9c59",
   "metadata": {},
   "source": [
    "# project 1\n",
    "# matric number: 21120612482\n",
    "# Email: cjoguibe@gmail.com and sochijindu.oguibe@pau.edu.ng\n",
    "# name : oguibe charles sochijindu\n",
    "\n",
    "\n",
    "# pseudocode\n",
    "\n",
    "# start\n",
    "# input= n\n",
    "# compute n-17\n",
    "# if n>17\n",
    "# print as(ans*2)\n",
    "# if n<17\n",
    "# print abs(ans)\n",
    "# print a(ans)\n",
    "# stop"
   ]
  },
  {
   "cell_type": "code",
   "execution_count": null,
   "id": "f5d3477f",
   "metadata": {},
   "outputs": [],
   "source": [
    "b = int(input(\"input number\"))\n",
    "ans = b-17\n",
    "if b<17\n",
    "    print(ans*2)\n",
    "else:\n",
    "    t= b-17\n",
    "    print(t)"
   ]
  }
 ],
 "metadata": {
  "kernelspec": {
   "display_name": "Python 3 (ipykernel)",
   "language": "python",
   "name": "python3"
  },
  "language_info": {
   "codemirror_mode": {
    "name": "ipython",
    "version": 3
   },
   "file_extension": ".py",
   "mimetype": "text/x-python",
   "name": "python",
   "nbconvert_exporter": "python",
   "pygments_lexer": "ipython3",
   "version": "3.9.7"
  }
 },
 "nbformat": 4,
 "nbformat_minor": 5
}
